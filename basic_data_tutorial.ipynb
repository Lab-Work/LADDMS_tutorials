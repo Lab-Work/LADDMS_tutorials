{
 "cells": [
  {
   "cell_type": "markdown",
   "id": "9e8102b2-c92c-400b-8de7-5af3c05a4f2d",
   "metadata": {},
   "source": [
    "# LADDMS lidar trajectory data tutorial\n",
    "#### Last updated: 08/18/2024\n",
    "#### https://ndot-laddms.org"
   ]
  },
  {
   "cell_type": "code",
   "execution_count": null,
   "id": "857db3d6-0a9b-4c00-a1b2-72008c672e77",
   "metadata": {},
   "outputs": [],
   "source": [
    "import matplotlib.pyplot as plt\n",
    "import shapely as shp\n",
    "import geopandas as gpd\n",
    "import numpy as np\n",
    "import datetime as dt\n",
    "import folium\n",
    "import zoneinfo\n",
    "import json\n",
    "import random\n",
    "import warnings"
   ]
  },
  {
   "cell_type": "markdown",
   "id": "030e01e2-2239-407c-9336-cd8d269624dc",
   "metadata": {},
   "source": [
    "## Load the trajectory dataset and show some basic info"
   ]
  },
  {
   "cell_type": "markdown",
   "id": "2d578ed4-da0e-4a80-a0bc-812440efb887",
   "metadata": {},
   "source": [
    "Loading data assumes that the files are located in the same directory as this notebook."
   ]
  },
  {
   "cell_type": "code",
   "execution_count": null,
   "id": "64607e10-7711-43e8-8709-e386484d5347",
   "metadata": {},
   "outputs": [],
   "source": [
    "with open('./sample_data.json', 'r') as f:\n",
    "    trajectories = json.load(f)\n",
    "    print(f\"Loaded {len(trajectories)} object trajectories.\")"
   ]
  },
  {
   "cell_type": "code",
   "execution_count": null,
   "id": "7e3cd43a-778c-469f-8c6d-d287e225f222",
   "metadata": {},
   "outputs": [],
   "source": [
    "for key, value in trajectories[0].items():\n",
    "    if not isinstance(value, list):\n",
    "        print(key, \": \", value)\n",
    "    else:\n",
    "        print(key, \": \", value[:6], \"...\")"
   ]
  },
  {
   "cell_type": "code",
   "execution_count": null,
   "id": "0cc3c327-ae00-457d-a6dc-e42489ff1bd8",
   "metadata": {},
   "outputs": [],
   "source": [
    "classes = set([traj['classification'] for traj in trajectories])\n",
    "print(\"Available classes:\", classes)\n",
    "locations = set([traj['location_id'] for traj in trajectories])\n",
    "print(\"Available locations:\", locations)"
   ]
  },
  {
   "cell_type": "markdown",
   "id": "991a3352-89ed-4e96-bfb2-aa54427de814",
   "metadata": {},
   "source": [
    "## Calculate and plot some speed statistics"
   ]
  },
  {
   "cell_type": "code",
   "execution_count": null,
   "id": "270923dd-8e05-40b9-9a77-e242e71d903f",
   "metadata": {},
   "outputs": [],
   "source": [
    "# Make a 2x2 subplot for each of four known object classes.\n",
    "fig, axs = plt.subplots(2, 2, figsize=(12, 8))\n",
    "for c, ax in zip(['BICYCLE', 'VEHICLE', 'PERSON', 'LARGE_VEHICLE'], axs.flatten()):\n",
    "    median_speeds = []\n",
    "    pct85_speeds = []\n",
    "    # For trajectories matching the current class, calculate median and 85th percentile speed.\n",
    "    for traj in trajectories:\n",
    "        if traj['classification'] == c:\n",
    "            # Calculate RSS of x- and y-component velocities (m/s), then convert to miles/hour.\n",
    "            traj_speed_mph = np.sqrt(np.array(traj['vel_x'])**2 + np.array(traj['vel_y'])**2) * 2.23694\n",
    "            median_speeds.append(np.quantile(traj_speed_mph, 0.5))\n",
    "            pct85_speeds.append(np.quantile(traj_speed_mph, 0.85))\n",
    "    # Plot median and 85th percentile histograms separately.\n",
    "    ax.hist(median_speeds, bins=25, histtype='step', fill=False, label=\"Median\")\n",
    "    ax.hist(pct85_speeds, bins=25, histtype='step', fill=False, label=\"85th pct.\")\n",
    "    ax.set_xlabel(\"Speed (mph)\")\n",
    "    ax.set_ylabel(\"Frequency (num. traj.)\")\n",
    "    ax.set_title(c)\n",
    "    ax.legend()\n",
    "plt.tight_layout()\n",
    "plt.show()"
   ]
  },
  {
   "cell_type": "code",
   "execution_count": null,
   "id": "803ea3bf-66fe-4d95-bf99-119db9ccf6fb",
   "metadata": {},
   "outputs": [],
   "source": [
    "# Make a 2x4 subplot for each of eight locations.\n",
    "loc_names = ['26th & Clarksville', '25th & Clarksville', 'Mid-block @ 24th/Clarksville',\n",
    "             'Mid-block @ ~23rd/Clarksville', 'DB Todd & Clarksville', 'DB Todd & Buchanan',\n",
    "             'Mid-block @ 14th/Buchanan', '9th & Buchanan']\n",
    "fig, axs = plt.subplots(2, 4, figsize=(18, 8))\n",
    "for loc, loc_name, ax in zip(range(1, len(loc_names)+1), loc_names, axs.flatten()):\n",
    "    median_speeds = []\n",
    "    pct85_speeds = []\n",
    "    # For trajectories matching the current location, calculate median and 85th percentile speed.\n",
    "    for traj in trajectories:\n",
    "        if traj['location_id'] == loc:\n",
    "            # Only include objects that were a vehicle type.\n",
    "            if traj['classification'] in ('VEHICLE', 'LARGE_VEHICLE'):\n",
    "                # Calculate RSS of x- and y-component velocities (m/s), then convert to miles/hour.\n",
    "                traj_speed_mph = np.sqrt(np.array(traj['vel_x'])**2 + np.array(traj['vel_y'])**2) * 2.23694\n",
    "                # Drop trajectories that had a 95th percentile speed less than 2mph (i.e., parked cars).\n",
    "                if np.quantile(traj_speed_mph, 0.95) < 2:\n",
    "                    continue\n",
    "                median_speeds.append(np.quantile(traj_speed_mph, 0.5))\n",
    "                pct85_speeds.append(np.quantile(traj_speed_mph, 0.85))\n",
    "    # Plot median and 85th percentile histograms separately.\n",
    "    ax.hist(median_speeds, bins=25, histtype='step', fill=False, label=\"Median\")\n",
    "    ax.hist(pct85_speeds, bins=25, histtype='step', fill=False, label=\"85th pct.\")\n",
    "    ax.set_xlabel(\"Vehicle speed (mph)\")\n",
    "    ax.set_ylabel(\"Frequency (num. traj.)\")\n",
    "    ax.set_title(loc_name)\n",
    "    ax.legend()\n",
    "plt.tight_layout()\n",
    "plt.show()"
   ]
  },
  {
   "cell_type": "markdown",
   "id": "c6fa7bb0-364b-4c06-9649-3d96a52f0f63",
   "metadata": {},
   "source": [
    "## Load some polygon zones and calculate geometric intersection"
   ]
  },
  {
   "cell_type": "code",
   "execution_count": null,
   "id": "b6838b4e-34bd-4014-9752-c1bbd6c73f64",
   "metadata": {},
   "outputs": [],
   "source": [
    "# This geo-JSON file contains a roadway zone drawn roughly around each lidar installation.\n",
    "geojson_path = 'location_zones.geojson'\n",
    "gdf = gpd.read_file(geojson_path)\n",
    "gdf = gdf.explode(index_parts=True).reset_index(drop=True)\n",
    "gdf = gdf.set_crs(epsg=4326)\n",
    "gdf = gdf.to_crs(epsg=32616)\n",
    "print(gdf)\n",
    "zones = gdf.to_dict(orient='index')\n",
    "zones = {r['location_id']: r['geometry'] for r in zones.values()}\n",
    "print(zones)"
   ]
  },
  {
   "cell_type": "code",
   "execution_count": null,
   "id": "38859563-dd60-41f7-af0e-c62a0136cef7",
   "metadata": {},
   "outputs": [],
   "source": [
    "def trajectories_to_linestrings(trajectory_dictioinaries, simplify=1):\n",
    "    \"\"\"\n",
    "    Converts trajectory UTM coordinate lists into linestring geometry.\n",
    "    :param trajectory_dictionaries: list of dictionaries, each containing trajectory data; keys 'utm_x' and 'utm_y' are used.\n",
    "    :param simplify: simplification factor for linestring gemetry; takes every N points.\n",
    "    \"\"\"\n",
    "    # LIST[0::N] gets the Nth element of LIST; when N=1, it returns the entire list\n",
    "    return [shp.geometry.LineString([(x, y) for x, y in zip(traj['utm_x'][0::simplify], traj['utm_y'][0::simplify])]) \n",
    "            for traj in trajectory_dictioinaries]"
   ]
  },
  {
   "cell_type": "code",
   "execution_count": null,
   "id": "6a23587b-6c47-489f-8c15-3b1cf0d80ea0",
   "metadata": {},
   "outputs": [],
   "source": [
    "def calculate_zone_intersection(trajectory_linestrings, zone_polygons):\n",
    "    \"\"\"\n",
    "    Generates count of number of intersecting trajectories for each zone polygon, as {polygon_id: count}\n",
    "    :param trajectory_linestrings: list of shapely linestring geometries.\n",
    "    :param zone_polygons: dictionary of format {polygon_id: polygon shapely geometry object}, assumed same CRS as linestrings\n",
    "    \"\"\"\n",
    "    zone_counts = {}\n",
    "    for zi, z_poly in zone_polygons.items():\n",
    "        count = 0\n",
    "        for t in trajectory_linestrings:\n",
    "            if t.intersects(z_poly):\n",
    "                count += 1\n",
    "        zone_counts[zi] = count\n",
    "    return zone_counts"
   ]
  },
  {
   "cell_type": "code",
   "execution_count": null,
   "id": "41b423a1-bda2-44ce-9a08-a0432c6d1111",
   "metadata": {},
   "outputs": [],
   "source": [
    "def filter_trajectories_by_intersection(trajectory_linestrings, zone_polygons):\n",
    "    \"\"\"\n",
    "    Generates filtered list of trajectory linestrings, those that intersect with any of the zone polygons.\n",
    "    :param trajectory_linestrings: list of shapely linestring geometries.\n",
    "    :param zone_polygons: dictionary of format {polygon_id: polygon shapely geometry object}, assumed same CRS as linestrings\n",
    "    \"\"\"\n",
    "    filtered = []\n",
    "    for t in trajectory_linestrings:\n",
    "        for zi, z_poly in zone_polygons.items():\n",
    "            if t.intersects(z_poly):\n",
    "                filtered.append(t)\n",
    "                break\n",
    "    return filtered"
   ]
  },
  {
   "cell_type": "code",
   "execution_count": null,
   "id": "46a1f278-cabe-402d-8c2a-4cf6a53d4b3c",
   "metadata": {},
   "outputs": [],
   "source": [
    "# Calculate the number of pedestrian trajectories entering the roadway at any point at each location.\n",
    "# Crossing at a crosswalk would likely intersect the zone.\n",
    "ped_lines = trajectories_to_linestrings([t for t in trajectories if t['classification'] == 'PERSON'])\n",
    "peds_by_zone = calculate_zone_intersection(ped_lines, zones)\n",
    "print(\"Pedestrian trajectories by roadway zone:\", peds_by_zone)"
   ]
  },
  {
   "cell_type": "markdown",
   "id": "ae09fb65-315e-4b20-81f0-d47ac80d90a9",
   "metadata": {},
   "source": [
    "## Plot trajectories and zones on a base map"
   ]
  },
  {
   "cell_type": "code",
   "execution_count": null,
   "id": "d6d2ae0d-f917-4877-bbfc-51d4ceab561b",
   "metadata": {},
   "outputs": [],
   "source": [
    "def plot_trajectories(linestrings, \n",
    "                      polygons_geodataframe=None, \n",
    "                      polygons_tooltip=False, \n",
    "                      polygon_color_dict=None,\n",
    "                      save_html_filepath=None):\n",
    "    \"\"\"\n",
    "    Plot linestrings on an OpenStreetMap base map. Optionally, display polygon zones on the same map.\n",
    "    :param linestrings: list of Shapely linestring geometry objects\n",
    "    :param polygons_geodataframe: GeoDataFrame with 'location_id' and 'geometry' (polygon) columns\n",
    "    :param polygons_tooltip: True/False, display interactive tooltip for location_id\n",
    "    :param polygon_color_dict: dictionary mapping location_id to a text or RGB color definition\n",
    "    :param save_html_filepath: file path at which to save the map, absolute or relative to this notebook\n",
    "    \"\"\"\n",
    "    if len(linestrings) == 0:\n",
    "        print(\"NO DATA TO PLOT\")\n",
    "        return None\n",
    "    # Create a GeoDataFrame out of the linestring geometries.\n",
    "    gdf = gpd.GeoDataFrame(geometry=linestrings, crs=\"EPSG:32616\")  # UTM Zone 16N\n",
    "    # Simplify linestrings based on point proximity.\n",
    "    gdf['geometry'] = gdf['geometry'].simplify(tolerance=0.25)\n",
    "    # Change the coordinate reference system of the data to WGS84 (lat/long).\n",
    "    # This is the CRS that the basemap uses.\n",
    "    gdf_wgs84 = gdf.to_crs(epsg=4326)\n",
    "    \n",
    "    def random_color():\n",
    "        # Generate a random color, bit-wise.\n",
    "        return f'#{random.randint(0, 0xFFFFFF):06x}'\n",
    "\n",
    "    def polygon_style_function(feature):\n",
    "        # If the polygon_color_dict was supplied, use this for polygon styling; otherwise, use red.\n",
    "        id_value = feature['properties']['location_id']\n",
    "        if polygon_color_dict is None:\n",
    "            return {'fillColor': 'red', 'color': 'black', 'weight': 1.5, 'fillOpacity': 0.5}\n",
    "        else:\n",
    "            return {'fillColor': polygon_color_dict[id_value], 'color': 'black', 'weight': 1.5, 'fillOpacity': 0.5}\n",
    "    \n",
    "    # Create a folium map centered on the first polygon.\n",
    "    with warnings.catch_warnings():\n",
    "        # Ignore the UserWarning that is generated about centroid calculation.\n",
    "        warnings.simplefilter(\"ignore\")\n",
    "        centroid = gdf_wgs84.geometry.centroid.iloc[0]\n",
    "    m = folium.Map(location=[centroid.y, centroid.x], zoom_start=15)\n",
    "\n",
    "    # Plot the polygons if they were supplied.\n",
    "    if polygons_geodataframe is not None:\n",
    "        # Add the tooltip function if indicated.\n",
    "        if polygons_tooltip is True:\n",
    "            folium.GeoJson(polygons_geodataframe,\n",
    "                           style_function=polygon_style_function,\n",
    "                           tooltip=folium.GeoJsonTooltip(fields=['location_id'], aliases=['Location: '], localize=True)\n",
    "                          ).add_to(m)\n",
    "        else:\n",
    "            folium.GeoJson(polygons_geodataframe,\n",
    "                           style_function=polygon_style_function\n",
    "                          ).add_to(m)\n",
    "    \n",
    "    # Add the trajectory linestrings to the folium map.\n",
    "    for _, row in gdf_wgs84.iterrows():\n",
    "        sim_geo = gpd.GeoSeries(row['geometry'])\n",
    "        geo_j = sim_geo.to_json()\n",
    "        geo_json = folium.GeoJson(\n",
    "            data=geo_j, style_function=lambda x, color=random_color(): {'color': color, 'weight': 2}\n",
    "        )\n",
    "        geo_json.add_to(m)\n",
    "    \n",
    "    # Save the map to an HTML file, if indicated.\n",
    "    if save_html_filepath is not None:\n",
    "        m.save(save_html_filepath)\n",
    "    # Return the map so it could be displayed it in the notebook.\n",
    "    return m\n"
   ]
  },
  {
   "cell_type": "code",
   "execution_count": null,
   "id": "8d3fea57-0479-4d9d-a98d-6a2e0211a7cf",
   "metadata": {},
   "outputs": [],
   "source": [
    "# Plot the pedestrian trajectories on a map, along with the location zones.\n",
    "traj_map = plot_trajectories(ped_lines, polygons_geodataframe=gdf, polygons_tooltip=True)\n",
    "# Open the map in the Python notebook.\n",
    "traj_map"
   ]
  },
  {
   "cell_type": "code",
   "execution_count": null,
   "id": "ea9575be-5725-495f-8791-a7704dbffc6b",
   "metadata": {},
   "outputs": [],
   "source": [
    "# Plot all trajectories on a map. This may take up to a minute.\n",
    "all_lines = trajectories_to_linestrings(trajectories, simplify=4)\n",
    "_ = plot_trajectories(all_lines, save_html_filepath='map.html')\n",
    "# >> Now open the new file 'map.html' in your browser."
   ]
  },
  {
   "cell_type": "code",
   "execution_count": null,
   "id": "5be42736-dcb5-46d2-a852-88497e61f4fb",
   "metadata": {},
   "outputs": [],
   "source": []
  }
 ],
 "metadata": {
  "kernelspec": {
   "display_name": "Python 3 (ipykernel)",
   "language": "python",
   "name": "python3"
  },
  "language_info": {
   "codemirror_mode": {
    "name": "ipython",
    "version": 3
   },
   "file_extension": ".py",
   "mimetype": "text/x-python",
   "name": "python",
   "nbconvert_exporter": "python",
   "pygments_lexer": "ipython3",
   "version": "3.10.14"
  }
 },
 "nbformat": 4,
 "nbformat_minor": 5
}
